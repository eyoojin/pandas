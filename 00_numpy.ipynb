{
 "cells": [
  {
   "cell_type": "code",
   "execution_count": 3,
   "id": "e47b3043-9cb1-4a44-872b-f2185fed4135",
   "metadata": {},
   "outputs": [],
   "source": [
    "import numpy as np # numpy: 배열 다루기에 특화\n",
    "\n",
    "my_list = list(range(1000000))\n",
    "my_array = np.arange(1000000)"
   ]
  },
  {
   "cell_type": "code",
   "execution_count": 4,
   "id": "6c312693-1daa-48eb-bcb1-37038dbb3638",
   "metadata": {},
   "outputs": [
    {
     "name": "stdout",
     "output_type": "stream",
     "text": [
      "55 ms ± 2.75 ms per loop (mean ± std. dev. of 7 runs, 10 loops each)\n",
      "1.98 ms ± 105 μs per loop (mean ± std. dev. of 7 runs, 100 loops each)\n"
     ]
    }
   ],
   "source": [
    "%timeit my_list2 = [i * 2 for i in my_list]\n",
    "%timeit my_array2 = my_array * 2"
   ]
  },
  {
   "cell_type": "code",
   "execution_count": 5,
   "id": "d1a5877a-18f6-42a8-9231-69908f3ea13d",
   "metadata": {},
   "outputs": [
    {
     "name": "stdout",
     "output_type": "stream",
     "text": [
      "[[   1.     2.3    3. ]\n",
      " [-123.   123.     0. ]]\n"
     ]
    }
   ],
   "source": [
    "a = [\n",
    "    [1, 2.3, 3],\n",
    "    [-123, 123, 0]\n",
    "] # 2차원 리스트: 리스트 안에 리스트\n",
    "data = np.array(a)\n",
    "print(data) # 데이터 형태를 비슷하게 바꿔줌"
   ]
  },
  {
   "cell_type": "code",
   "execution_count": 8,
   "id": "8977a3f5-2aca-4600-b5d1-e776836464c9",
   "metadata": {},
   "outputs": [
    {
     "name": "stdout",
     "output_type": "stream",
     "text": [
      "[[   10.    23.    30.]\n",
      " [-1230.  1230.     0.]]\n",
      "[[   2.     4.6    6. ]\n",
      " [-246.   246.     0. ]]\n"
     ]
    }
   ],
   "source": [
    "# 0차원: 스칼라(scala), 1차원: 벡터(vector), \n",
    "# 2차원: 행렬(matrix), 3차원: 텐서(tenser)\n",
    "print(data * 10)\n",
    "print(data + data)"
   ]
  },
  {
   "cell_type": "code",
   "execution_count": 9,
   "id": "5f32602b-e226-4d01-840d-c7a182b54093",
   "metadata": {},
   "outputs": [
    {
     "name": "stdout",
     "output_type": "stream",
     "text": [
      "(2, 3)\n",
      "float64\n"
     ]
    }
   ],
   "source": [
    "print(data.shape) # 가장 큰 배열 2개, 그 안의 배열 3개/ 2행 3열\n",
    "print(data.dtype)"
   ]
  },
  {
   "cell_type": "markdown",
   "id": "309d0285-6284-4541-822e-fd9a63d15547",
   "metadata": {},
   "source": [
    "## ndarray 생성하기"
   ]
  },
  {
   "cell_type": "markdown",
   "id": "8b50aab4-7ce8-43e4-8c4a-348690479c74",
   "metadata": {},
   "source": [
    "*n차원의 배열*"
   ]
  },
  {
   "cell_type": "code",
   "execution_count": 12,
   "id": "c94e508b-3391-4d68-841e-20828bd0b02a",
   "metadata": {},
   "outputs": [
    {
     "name": "stdout",
     "output_type": "stream",
     "text": [
      "[1 2 3 4 5]\n",
      "<class 'numpy.ndarray'>\n"
     ]
    }
   ],
   "source": [
    "data1 = [1, 2, 3, 4, 5]\n",
    "arr1 = np.array(data1)\n",
    "print(arr1)\n",
    "print(type(arr1))"
   ]
  },
  {
   "cell_type": "code",
   "execution_count": 16,
   "id": "6e472909-796c-414e-8e77-6020005a92db",
   "metadata": {},
   "outputs": [
    {
     "name": "stdout",
     "output_type": "stream",
     "text": [
      "[[1.1 2.2]\n",
      " [3.3 4.4]]\n",
      "<class 'numpy.ndarray'>\n"
     ]
    }
   ],
   "source": [
    "arr2 = np.array([[1.1, 2.2], [3.3, 4.4]])\n",
    "print(arr2)\n",
    "print(type(arr2))"
   ]
  },
  {
   "cell_type": "code",
   "execution_count": 17,
   "id": "f15713a7-8517-4e5f-aec5-46469fc2209c",
   "metadata": {},
   "outputs": [
    {
     "ename": "ValueError",
     "evalue": "setting an array element with a sequence. The requested array has an inhomogeneous shape after 1 dimensions. The detected shape was (2,) + inhomogeneous part.",
     "output_type": "error",
     "traceback": [
      "\u001b[1;31m---------------------------------------------------------------------------\u001b[0m",
      "\u001b[1;31mValueError\u001b[0m                                Traceback (most recent call last)",
      "Cell \u001b[1;32mIn[17], line 1\u001b[0m\n\u001b[1;32m----> 1\u001b[0m arr2 \u001b[38;5;241m=\u001b[39m \u001b[43mnp\u001b[49m\u001b[38;5;241;43m.\u001b[39;49m\u001b[43marray\u001b[49m\u001b[43m(\u001b[49m\u001b[43m[\u001b[49m\u001b[43m[\u001b[49m\u001b[38;5;241;43m1.1\u001b[39;49m\u001b[43m,\u001b[49m\u001b[43m \u001b[49m\u001b[38;5;241;43m2.2\u001b[39;49m\u001b[43m]\u001b[49m\u001b[43m,\u001b[49m\u001b[43m \u001b[49m\u001b[43m[\u001b[49m\u001b[38;5;241;43m3.3\u001b[39;49m\u001b[43m,\u001b[49m\u001b[43m \u001b[49m\u001b[38;5;241;43m4.4\u001b[39;49m\u001b[43m,\u001b[49m\u001b[43m \u001b[49m\u001b[38;5;241;43m5.5\u001b[39;49m\u001b[43m]\u001b[49m\u001b[43m]\u001b[49m\u001b[43m)\u001b[49m \u001b[38;5;66;03m# error\u001b[39;00m\n",
      "\u001b[1;31mValueError\u001b[0m: setting an array element with a sequence. The requested array has an inhomogeneous shape after 1 dimensions. The detected shape was (2,) + inhomogeneous part."
     ]
    }
   ],
   "source": [
    "arr2 = np.array([[1.1, 2.2], [3.3, 4.4, 5.5]]) # error"
   ]
  },
  {
   "cell_type": "code",
   "execution_count": 14,
   "id": "edf9db64-76a6-4a83-9966-1569736f4592",
   "metadata": {},
   "outputs": [
    {
     "name": "stdout",
     "output_type": "stream",
     "text": [
      "1\n",
      "2\n"
     ]
    }
   ],
   "source": [
    "print(arr1.ndim) # 1차원\n",
    "print(arr2.ndim) # 2차원"
   ]
  },
  {
   "cell_type": "code",
   "execution_count": 15,
   "id": "80518bff-80fe-4f7c-aa58-cdd7e0d14bd5",
   "metadata": {},
   "outputs": [
    {
     "name": "stdout",
     "output_type": "stream",
     "text": [
      "(5,)\n",
      "(2, 2)\n"
     ]
    }
   ],
   "source": [
    "print(arr1.shape)\n",
    "print(arr2.shape)"
   ]
  },
  {
   "cell_type": "code",
   "execution_count": 21,
   "id": "9963f716-bc51-4160-adab-35e2a2b4df62",
   "metadata": {},
   "outputs": [
    {
     "name": "stdout",
     "output_type": "stream",
     "text": [
      "[0, 0, 0, 0, 0, 0, 0, 0, 0, 0]\n",
      "[0. 0. 0. 0. 0. 0. 0. 0. 0. 0.]\n",
      "[[0. 0. 0. 0. 0.]\n",
      " [0. 0. 0. 0. 0.]\n",
      " [0. 0. 0. 0. 0.]\n",
      " [0. 0. 0. 0. 0.]\n",
      " [0. 0. 0. 0. 0.]]\n",
      "[[[0. 0.]\n",
      "  [0. 0.]]\n",
      "\n",
      " [[0. 0.]\n",
      "  [0. 0.]]]\n"
     ]
    }
   ],
   "source": [
    "print([0] * 10) # 위랑 아래는 똑같은데...\n",
    "print(np.zeros(10))\n",
    "print(np.zeros((5, 5)))\n",
    "print(np.empty((2, 2, 2)))"
   ]
  },
  {
   "cell_type": "code",
   "execution_count": 23,
   "id": "c4435494-1d2d-43a4-9f25-984affa7083f",
   "metadata": {},
   "outputs": [
    {
     "name": "stdout",
     "output_type": "stream",
     "text": [
      "[0 1 2 3 4 5 6 7 8 9]\n"
     ]
    }
   ],
   "source": [
    "print(np.arange(10))"
   ]
  },
  {
   "cell_type": "markdown",
   "id": "df44affe-ad25-4023-ac8c-f93c8a43bd29",
   "metadata": {},
   "source": [
    "## ndarray 자료형"
   ]
  },
  {
   "cell_type": "code",
   "execution_count": 25,
   "id": "73974480-cd72-4688-b103-f39516276c74",
   "metadata": {},
   "outputs": [
    {
     "name": "stdout",
     "output_type": "stream",
     "text": [
      "float64\n",
      "int32\n"
     ]
    }
   ],
   "source": [
    "arr1 = np.array([1, 2, 3], dtype=np.float64) # 생성할 때 속성을 넣어서 형변환\n",
    "arr2 = np.array([1, 2, 3], dtype=np.int32)\n",
    "\n",
    "print(arr1.dtype)\n",
    "print(arr2.dtype)"
   ]
  },
  {
   "cell_type": "code",
   "execution_count": 27,
   "id": "9905ba1f-3c3a-4295-b71d-67091d441bb0",
   "metadata": {},
   "outputs": [
    {
     "name": "stdout",
     "output_type": "stream",
     "text": [
      "int64\n",
      "[1. 2. 3.]\n",
      "float64\n"
     ]
    }
   ],
   "source": [
    "arr1 = np.array([1, 2, 3])\n",
    "print(arr1.dtype)\n",
    "float_arr1 = arr1.astype(np.float64) # 명시적 형변환\n",
    "print(float_arr1)\n",
    "print(float_arr1.dtype)"
   ]
  },
  {
   "cell_type": "code",
   "execution_count": 28,
   "id": "10c8ce86-6487-4493-946c-197bc3921b1e",
   "metadata": {},
   "outputs": [
    {
     "name": "stdout",
     "output_type": "stream",
     "text": [
      "float64\n",
      "[1 2 3 9]\n",
      "int64\n"
     ]
    }
   ],
   "source": [
    "arr2 = np.array([1.1, 2.2, 3.3, 9.9])\n",
    "print(arr2.dtype)\n",
    "int_arr2 = arr2.astype(np.int64) # 형변환 시 소수점 버림\n",
    "print(int_arr2)\n",
    "print(int_arr2.dtype) "
   ]
  },
  {
   "cell_type": "markdown",
   "id": "e33e7b35-ddf9-48ec-8b7d-3475bc961727",
   "metadata": {},
   "source": [
    "## 산술 연산"
   ]
  },
  {
   "cell_type": "code",
   "execution_count": 32,
   "id": "12d0a9e7-617e-4fc3-ba37-c2513621d334",
   "metadata": {},
   "outputs": [
    {
     "name": "stdout",
     "output_type": "stream",
     "text": [
      "[[1 2 3]\n",
      " [4 5 6]]\n",
      "[[ 1  4  9]\n",
      " [16 25 36]]\n",
      "[[ 2  4  6]\n",
      " [ 8 10 12]]\n",
      "[[1.         0.5        0.33333333]\n",
      " [0.25       0.2        0.16666667]]\n",
      "[[  1   8  27]\n",
      " [ 64 125 216]]\n"
     ]
    }
   ],
   "source": [
    "arr = np.array([[1, 2, 3], [4, 5, 6]])\n",
    "print(arr) # 2 * 3 shape\n",
    "print(arr * arr) # 같은 위치에 있는 데이터끼리 사칙연산\n",
    "print(arr + arr)\n",
    "print(1 / arr)\n",
    "print(arr ** 3)"
   ]
  },
  {
   "cell_type": "code",
   "execution_count": 35,
   "id": "7adfcaaa-2a58-449d-b30f-555b4ecc0af4",
   "metadata": {},
   "outputs": [
    {
     "name": "stdout",
     "output_type": "stream",
     "text": [
      "[[1 2 3]\n",
      " [4 5 6]]\n",
      "[[3 2 1]\n",
      " [1 2 3]]\n",
      "[[False False  True]\n",
      " [ True  True  True]]\n",
      "[[False False  True]\n",
      " [False False False]]\n"
     ]
    }
   ],
   "source": [
    "arr2 = np.array([[3, 2, 1], [1, 2, 3]])\n",
    "print(arr)\n",
    "print(arr2)\n",
    "print(arr > arr2)\n",
    "print(arr == 3)"
   ]
  },
  {
   "cell_type": "markdown",
   "id": "20289885-7821-491b-bd69-d87204ae6878",
   "metadata": {},
   "source": [
    "## 색인(인덱싱)과 슬라이싱"
   ]
  },
  {
   "cell_type": "code",
   "execution_count": 36,
   "id": "d26f4a59-dcef-4938-a7dd-b9e6863fbe9c",
   "metadata": {},
   "outputs": [
    {
     "name": "stdout",
     "output_type": "stream",
     "text": [
      "[0 1 2 3 4 5 6 7 8 9]\n"
     ]
    }
   ],
   "source": [
    "arr = np.arange(10)\n",
    "print(arr)"
   ]
  },
  {
   "cell_type": "code",
   "execution_count": 39,
   "id": "833e7576-9b50-43a8-8a16-2a329e5f865f",
   "metadata": {},
   "outputs": [
    {
     "name": "stdout",
     "output_type": "stream",
     "text": [
      "5\n",
      "[2 3 4]\n"
     ]
    }
   ],
   "source": [
    "print(arr[5])\n",
    "print(arr[2:5])"
   ]
  },
  {
   "cell_type": "code",
   "execution_count": 40,
   "id": "a5a7e6ea-1f74-43f8-a8aa-f4d500719d28",
   "metadata": {},
   "outputs": [
    {
     "name": "stdout",
     "output_type": "stream",
     "text": [
      "[ 0  1 10 10 10  5  6  7  8  9]\n"
     ]
    }
   ],
   "source": [
    "arr[2:5] = 10\n",
    "print(arr) # 원본이 변함"
   ]
  },
  {
   "cell_type": "code",
   "execution_count": 41,
   "id": "d03084e5-71e2-4da8-95a0-33e4b24e92e8",
   "metadata": {},
   "outputs": [
    {
     "name": "stdout",
     "output_type": "stream",
     "text": [
      "[1, 2, 3, 4, 5]\n"
     ]
    }
   ],
   "source": [
    "py_list = [1, 2, 3, 4, 5]\n",
    "py_list[2:3].pop()\n",
    "print(py_list) # 원본은 그대로"
   ]
  },
  {
   "cell_type": "code",
   "execution_count": 42,
   "id": "facd2352-8cd1-400c-b604-57aa96b1bc18",
   "metadata": {},
   "outputs": [
    {
     "name": "stdout",
     "output_type": "stream",
     "text": [
      "[[1 2 3]\n",
      " [4 5 6]]\n"
     ]
    }
   ],
   "source": [
    "arr = np.array([[1, 2, 3], [4, 5, 6]])\n",
    "print(arr)"
   ]
  },
  {
   "cell_type": "code",
   "execution_count": 44,
   "id": "e011c92f-b4d1-41f2-a6c0-4335eddba292",
   "metadata": {},
   "outputs": [
    {
     "name": "stdout",
     "output_type": "stream",
     "text": [
      "5\n",
      "5\n"
     ]
    }
   ],
   "source": [
    "print(arr[1][1])\n",
    "print(arr[1, 1])"
   ]
  },
  {
   "cell_type": "code",
   "execution_count": 48,
   "id": "c5583bd5-8ecf-45df-82da-40953bd63895",
   "metadata": {},
   "outputs": [],
   "source": [
    "arr3d = np.array([[[1, 2, 3], [4, 5, 6], [7, 8, 9]],\n",
    "          [[11, 12, 13], [14, 15, 16], [17, 18, 19]],\n",
    "          [[11, 22, 33], [44, 55, 66], [77, 88, 99]]])"
   ]
  },
  {
   "cell_type": "code",
   "execution_count": 53,
   "id": "6b9d6044-5a05-4c4f-83c8-823812bbe801",
   "metadata": {},
   "outputs": [
    {
     "name": "stdout",
     "output_type": "stream",
     "text": [
      "22\n",
      "22\n"
     ]
    }
   ],
   "source": [
    "print(arr3d[2][0][1])\n",
    "print(arr3d[2, 0, 1])"
   ]
  },
  {
   "cell_type": "code",
   "execution_count": 57,
   "id": "19ea1e30-9e3e-485d-9cbc-a14e9db9c905",
   "metadata": {},
   "outputs": [
    {
     "data": {
      "text/plain": [
       "array([[[6],\n",
       "        [9]]])"
      ]
     },
     "execution_count": 57,
     "metadata": {},
     "output_type": "execute_result"
    }
   ],
   "source": [
    "arr3d[:1, 1:, 2:] # 슬라이싱 접근 대괄호 유지"
   ]
  },
  {
   "cell_type": "code",
   "execution_count": 58,
   "id": "943e951d-c11a-4b19-93ac-81d5bec1edf3",
   "metadata": {},
   "outputs": [
    {
     "data": {
      "text/plain": [
       "array([[6],\n",
       "       [9]])"
      ]
     },
     "execution_count": 58,
     "metadata": {},
     "output_type": "execute_result"
    }
   ],
   "source": [
    "arr3d[0, 1:, 2:] # 인덱스 접근 대괄호가 하나 줄어듦"
   ]
  },
  {
   "cell_type": "code",
   "execution_count": 59,
   "id": "629e4fae-4b69-44cb-94d9-e491f419330d",
   "metadata": {},
   "outputs": [
    {
     "name": "stdout",
     "output_type": "stream",
     "text": [
      "[[[   1    2    3]\n",
      "  [   4    5 9999]\n",
      "  [   7    8 9999]]\n",
      "\n",
      " [[  11   12   13]\n",
      "  [  14   15   16]\n",
      "  [  17   18   19]]\n",
      "\n",
      " [[  11   22   33]\n",
      "  [  44   55   66]\n",
      "  [  77   88   99]]]\n"
     ]
    }
   ],
   "source": [
    "arr3d[0, 1:, 2:] = 9999\n",
    "print(arr3d)"
   ]
  },
  {
   "cell_type": "markdown",
   "id": "3fe0be19-9c24-4730-9030-da2945c4bbe4",
   "metadata": {},
   "source": [
    "## 불리언 값으로 선택"
   ]
  },
  {
   "cell_type": "code",
   "execution_count": 61,
   "id": "107af560-b65e-463d-aec0-fa44d7493466",
   "metadata": {},
   "outputs": [],
   "source": [
    "names = np.array(['hong', 'kim', 'hong', 'kim'])\n",
    "data = np.array([['math', 60], ['math', 90], ['eng', 70], ['eng', 50]])"
   ]
  },
  {
   "cell_type": "code",
   "execution_count": 65,
   "id": "5f19045f-9e1a-4bf7-8104-c7ef31a9f098",
   "metadata": {},
   "outputs": [
    {
     "data": {
      "text/plain": [
       "array([ True, False,  True, False])"
      ]
     },
     "execution_count": 65,
     "metadata": {},
     "output_type": "execute_result"
    }
   ],
   "source": [
    "names == 'hong'"
   ]
  },
  {
   "cell_type": "code",
   "execution_count": 66,
   "id": "1ef7b8fa-e14a-4b9e-9bde-577b85141c8a",
   "metadata": {},
   "outputs": [
    {
     "data": {
      "text/plain": [
       "array([['math', '60'],\n",
       "       ['eng', '70']], dtype='<U21')"
      ]
     },
     "execution_count": 66,
     "metadata": {},
     "output_type": "execute_result"
    }
   ],
   "source": [
    "data[[True, False, True, False]]"
   ]
  },
  {
   "cell_type": "code",
   "execution_count": 64,
   "id": "360f7dec-48f7-44f1-af5a-a9604e615b89",
   "metadata": {},
   "outputs": [
    {
     "data": {
      "text/plain": [
       "array([['math', '60'],\n",
       "       ['eng', '70']], dtype='<U21')"
      ]
     },
     "execution_count": 64,
     "metadata": {},
     "output_type": "execute_result"
    }
   ],
   "source": [
    "data[names == 'hong'] # 특정 조건에 맞는 데이터를 고를 때"
   ]
  },
  {
   "cell_type": "code",
   "execution_count": 68,
   "id": "fc9abf66-4144-45cf-bd72-998174594462",
   "metadata": {},
   "outputs": [
    {
     "name": "stdout",
     "output_type": "stream",
     "text": [
      "['60' '70']\n",
      "[['math']\n",
      " ['eng']]\n"
     ]
    }
   ],
   "source": [
    "print(data[names == 'hong', 1]) # 인덱스 접근\n",
    "print(data[names == 'hong', :1]) # 슬라이싱 -> 데이터 구조가 다름"
   ]
  },
  {
   "cell_type": "code",
   "execution_count": 74,
   "id": "b97e1673-0488-47ee-bb04-5785af6a529e",
   "metadata": {},
   "outputs": [
    {
     "name": "stdout",
     "output_type": "stream",
     "text": [
      "[False  True False  True]\n",
      "[False  True False  True]\n"
     ]
    }
   ],
   "source": [
    "print(names != 'hong')\n",
    "print(~(names == 'hong'))"
   ]
  },
  {
   "cell_type": "code",
   "execution_count": 75,
   "id": "0d380463-6cfa-4703-be39-37f55f872f9c",
   "metadata": {},
   "outputs": [
    {
     "data": {
      "text/plain": [
       "array([['math', '90'],\n",
       "       ['eng', '50']], dtype='<U21')"
      ]
     },
     "execution_count": 75,
     "metadata": {},
     "output_type": "execute_result"
    }
   ],
   "source": [
    "cond = names == 'kim'\n",
    "data[cond]"
   ]
  },
  {
   "cell_type": "markdown",
   "id": "81db6de0-4a5d-4599-a955-85556ad41586",
   "metadata": {},
   "source": [
    "## 팬시 색인 (fancy indexing)"
   ]
  },
  {
   "cell_type": "code",
   "execution_count": 79,
   "id": "2b6fff3b-6330-44a5-8d94-c52c8bcf7103",
   "metadata": {},
   "outputs": [
    {
     "name": "stdout",
     "output_type": "stream",
     "text": [
      "[[0. 0. 0. 0.]\n",
      " [1. 1. 1. 1.]\n",
      " [2. 2. 2. 2.]\n",
      " [3. 3. 3. 3.]\n",
      " [4. 4. 4. 4.]\n",
      " [5. 5. 5. 5.]\n",
      " [6. 6. 6. 6.]\n",
      " [7. 7. 7. 7.]]\n"
     ]
    }
   ],
   "source": [
    "arr = np.zeros((8, 4))\n",
    "\n",
    "for i in range(8):\n",
    "    arr[i] = i\n",
    "print(arr)"
   ]
  },
  {
   "cell_type": "code",
   "execution_count": 80,
   "id": "3b5707ec-35d4-4241-9880-1b154611a944",
   "metadata": {},
   "outputs": [
    {
     "data": {
      "text/plain": [
       "array([[4., 4., 4., 4.],\n",
       "       [3., 3., 3., 3.],\n",
       "       [0., 0., 0., 0.],\n",
       "       [5., 5., 5., 5.]])"
      ]
     },
     "execution_count": 80,
     "metadata": {},
     "output_type": "execute_result"
    }
   ],
   "source": [
    "arr[[4, 3, 0, 5]] # 대괄호 안에 대괄호 -> 내가 원하는 행을 직접 고를 수 있음"
   ]
  },
  {
   "cell_type": "code",
   "execution_count": 81,
   "id": "6696ab20-e108-4e86-be72-3525939b8c74",
   "metadata": {},
   "outputs": [
    {
     "data": {
      "text/plain": [
       "array([[5., 5., 5., 5.],\n",
       "       [3., 3., 3., 3.],\n",
       "       [7., 7., 7., 7.]])"
      ]
     },
     "execution_count": 81,
     "metadata": {},
     "output_type": "execute_result"
    }
   ],
   "source": [
    "arr[[-3, -5, -1]]"
   ]
  },
  {
   "cell_type": "code",
   "execution_count": 89,
   "id": "dca31e22-3e10-4627-b6e3-ee822c0dc9a4",
   "metadata": {},
   "outputs": [
    {
     "name": "stdout",
     "output_type": "stream",
     "text": [
      "[[ 0  1  2  3]\n",
      " [ 4  5  6  7]\n",
      " [ 8  9 10 11]\n",
      " [12 13 14 15]\n",
      " [16 17 18 19]\n",
      " [20 21 22 23]\n",
      " [24 25 26 27]\n",
      " [28 29 30 31]]\n"
     ]
    }
   ],
   "source": [
    "arr = np.arange(32).reshape(8, 4)\n",
    "print(arr)"
   ]
  },
  {
   "cell_type": "code",
   "execution_count": 90,
   "id": "00805b62-6f92-427a-b91e-c7a45876bbe5",
   "metadata": {},
   "outputs": [
    {
     "name": "stdout",
     "output_type": "stream",
     "text": [
      "[ 6 23]\n"
     ]
    }
   ],
   "source": [
    "print(arr[[1, 5], [2, 3]])"
   ]
  },
  {
   "cell_type": "code",
   "execution_count": 92,
   "id": "6534608c-5cb8-4795-bcce-b63127e8c54c",
   "metadata": {},
   "outputs": [
    {
     "data": {
      "text/plain": [
       "array([[ 6,  7],\n",
       "       [22, 23]])"
      ]
     },
     "execution_count": 92,
     "metadata": {},
     "output_type": "execute_result"
    }
   ],
   "source": [
    "arr[[1, 5]][:, [2, 3]]"
   ]
  },
  {
   "cell_type": "markdown",
   "id": "3fb5bcbc-02d4-4ea7-940a-a0682e2fe118",
   "metadata": {},
   "source": [
    "## 배열 전치"
   ]
  },
  {
   "cell_type": "code",
   "execution_count": 95,
   "id": "05dd3337-14d4-4b15-9326-f2bb1c94353c",
   "metadata": {},
   "outputs": [
    {
     "name": "stdout",
     "output_type": "stream",
     "text": [
      "[[ 0  1  2  3  4]\n",
      " [ 5  6  7  8  9]\n",
      " [10 11 12 13 14]]\n"
     ]
    }
   ],
   "source": [
    "arr = np.arange(15).reshape(3, 5)\n",
    "print(arr)"
   ]
  },
  {
   "cell_type": "code",
   "execution_count": 96,
   "id": "fad36d67-90bd-4eb1-aa8f-f02cd4ca348a",
   "metadata": {},
   "outputs": [
    {
     "name": "stdout",
     "output_type": "stream",
     "text": [
      "[[ 0  5 10]\n",
      " [ 1  6 11]\n",
      " [ 2  7 12]\n",
      " [ 3  8 13]\n",
      " [ 4  9 14]]\n"
     ]
    }
   ],
   "source": [
    "print(arr.T) # 축을 바꿀 때"
   ]
  },
  {
   "cell_type": "code",
   "execution_count": 100,
   "id": "cff82714-2180-4220-ad7d-2826c3d546d5",
   "metadata": {},
   "outputs": [
    {
     "name": "stdout",
     "output_type": "stream",
     "text": [
      "[[ 30  80 130]\n",
      " [ 80 255 430]\n",
      " [130 430 730]]\n",
      "[[ 30  80 130]\n",
      " [ 80 255 430]\n",
      " [130 430 730]]\n"
     ]
    }
   ],
   "source": [
    "# 행렬의 내적, 곱 연산\n",
    "print(arr @ arr.T)\n",
    "print(np.dot(arr, arr.T))"
   ]
  },
  {
   "cell_type": "markdown",
   "id": "fe548189-5f24-4289-99f2-bf2e42654bb1",
   "metadata": {},
   "source": [
    "## numpy 함수"
   ]
  },
  {
   "cell_type": "code",
   "execution_count": 101,
   "id": "a74c5632-4f93-4211-8190-d78da2f83584",
   "metadata": {},
   "outputs": [
    {
     "name": "stdout",
     "output_type": "stream",
     "text": [
      "[[ 1.8257906   2.13267814 -1.46867918]\n",
      " [ 0.23357155  0.50990307 -0.66155212]\n",
      " [-1.20844597 -0.97724701 -0.29620833]]\n"
     ]
    }
   ],
   "source": [
    "samples = np.random.standard_normal(size=(3, 3))\n",
    "print(samples)"
   ]
  },
  {
   "cell_type": "code",
   "execution_count": 103,
   "id": "64b4698b-93ee-4626-be6f-8c6336986910",
   "metadata": {},
   "outputs": [
    {
     "name": "stdout",
     "output_type": "stream",
     "text": [
      "[[1.35121819 1.46036918        nan]\n",
      " [0.48329241 0.71407497        nan]\n",
      " [       nan        nan        nan]]\n"
     ]
    },
    {
     "name": "stderr",
     "output_type": "stream",
     "text": [
      "C:\\Users\\1-14\\AppData\\Local\\Temp\\ipykernel_15632\\986832208.py:1: RuntimeWarning: invalid value encountered in sqrt\n",
      "  arr1 = np.sqrt(samples) # nan: not a number -> 루트를 씌웠는데 음수일 때/ 결측치\n"
     ]
    }
   ],
   "source": [
    "arr1 = np.sqrt(samples) # nan: not a number -> 루트를 씌웠는데 음수일 때/ 결측치\n",
    "print(arr1)"
   ]
  },
  {
   "cell_type": "code",
   "execution_count": 104,
   "id": "3af22b05-2a56-4596-b484-52b4ca9b037d",
   "metadata": {},
   "outputs": [
    {
     "name": "stdout",
     "output_type": "stream",
     "text": [
      "[[1.8257906  2.13267814 1.46867918]\n",
      " [0.23357155 0.50990307 0.66155212]\n",
      " [1.20844597 0.97724701 0.29620833]]\n"
     ]
    }
   ],
   "source": [
    "arr2 = np.abs(samples) # absolute: 절댓값\n",
    "print(arr2)"
   ]
  },
  {
   "cell_type": "code",
   "execution_count": 105,
   "id": "6e3fee28-f6ac-4e18-af9c-f9a694e80729",
   "metadata": {},
   "outputs": [
    {
     "data": {
      "text/plain": [
       "array([[False, False,  True],\n",
       "       [False, False,  True],\n",
       "       [ True,  True,  True]])"
      ]
     },
     "execution_count": 105,
     "metadata": {},
     "output_type": "execute_result"
    }
   ],
   "source": [
    "np.isnan(arr1)"
   ]
  }
 ],
 "metadata": {
  "kernelspec": {
   "display_name": "Python 3 (ipykernel)",
   "language": "python",
   "name": "python3"
  },
  "language_info": {
   "codemirror_mode": {
    "name": "ipython",
    "version": 3
   },
   "file_extension": ".py",
   "mimetype": "text/x-python",
   "name": "python",
   "nbconvert_exporter": "python",
   "pygments_lexer": "ipython3",
   "version": "3.13.2"
  }
 },
 "nbformat": 4,
 "nbformat_minor": 5
}
